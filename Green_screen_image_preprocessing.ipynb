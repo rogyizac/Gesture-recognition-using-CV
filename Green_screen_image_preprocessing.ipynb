{
 "cells": [
  {
   "cell_type": "code",
   "execution_count": 1,
   "metadata": {},
   "outputs": [],
   "source": [
    "#importing libraries\n",
    "import os\n",
    "import shutil\n",
    "import xml.etree.ElementTree as ET\n",
    "import cv2\n",
    "from PIL import Image, ExifTags, ImageOps\n",
    "import random\n",
    "import time"
   ]
  },
  {
   "cell_type": "markdown",
   "metadata": {},
   "source": [
    "After taking the green screen images with green screen subtraction method the following programs are used to preprocess them to finally place these green screen hand gesture images on random background in different shapes and sizes and also dynamically label them.."
   ]
  },
  {
   "cell_type": "code",
   "execution_count": 2,
   "metadata": {},
   "outputs": [],
   "source": [
    "#folder containing raw green screen images taken with camera.. \n",
    "green_screen_img_folder = r\"C:\\Users\\rohan\\Desktop\\Praxis_coureswork\\Capstone_YOLO\\green_screen\\green_screen_images\"\n",
    "#folder to save annotated cropped green screen images..basically taking raw green screen image taken with camera, annotating the region of interest and cropping it out..\n",
    "green_screen_img_cropped_folder = r\"C:\\Users\\rohan\\Desktop\\Praxis_coureswork\\Capstone_YOLO\\green_screen\\green_screen_images_cropped\"\n",
    "#The raw green screen images annotation folder...\n",
    "green_screen_annotation_folder = r\"C:\\Users\\rohan\\Desktop\\Praxis_coureswork\\Capstone_YOLO\\green_screen\\green_screen_annotations\"\n",
    "#The cropped green screen images annotation folder\n",
    "green_screen_cropped_annotations_folder = r\"C:\\Users\\rohan\\Desktop\\Praxis_coureswork\\Capstone_YOLO\\green_screen\\green_screen_cropped_annotations\""
   ]
  },
  {
   "cell_type": "code",
   "execution_count": 3,
   "metadata": {},
   "outputs": [],
   "source": [
    "#folder to save preprocessed images i.e, a green screen image is layed randomly on different backgrounds...\n",
    "green_screen_resized_bg_images_folder = r\"C:\\Users\\rohan\\Desktop\\Praxis_coureswork\\Capstone_YOLO\\green_screen\\green_screen_bg_resized_images\"\n",
    "#annotations folder of preprocessed images...\n",
    "green_screen_resized_bg_annotations_folder = r\"C:\\Users\\rohan\\Desktop\\Praxis_coureswork\\Capstone_YOLO\\green_screen\\green_screen_bg_resized_annotations\"\n",
    "#folder containing random background images...\n",
    "background_folder = r\"C:\\Users\\rohan\\Desktop\\Praxis_coureswork\\Capstone_YOLO\\background_images\""
   ]
  },
  {
   "cell_type": "markdown",
   "metadata": {},
   "source": [
    "This program will take the raw green screen images which are annotated.. it will crop the images to perfection so that the entire background is green.. and save the cropped images to another folder while simultaneously changing the annotations.."
   ]
  },
  {
   "cell_type": "code",
   "execution_count": 6,
   "metadata": {},
   "outputs": [],
   "source": [
    "for file in os.listdir(green_screen_annotation_folder):\n",
    "    xml_file = file\n",
    "    img_name = xml_file[:-4] + \".png\"\n",
    "    \n",
    "    tree = ET.parse(green_screen_annotation_folder + '\\\\' + xml_file) \n",
    "    \n",
    "    xmin = int(tree.find('object/bndbox/xmin').text)\n",
    "    xmax = int(tree.find('object/bndbox/xmax').text) \n",
    "    ymax = int(tree.find('object/bndbox/ymax').text) \n",
    "    ymin = int(tree.find('object/bndbox/ymin').text) \n",
    "    \n",
    "    original = Image.open(green_screen_img_folder + \"\\\\\" + img_name)\n",
    "    original = original.crop((xmin, ymin, xmax, ymax))\n",
    "    original.save(green_screen_img_cropped_folder + \"\\\\\" + img_name)\n",
    "    \n",
    "    x = original.size[0]\n",
    "    y = original.size[1]\n",
    "    \n",
    "    original.close()\n",
    "    \n",
    "    tree.find('object/bndbox/xmin').text = str(1)\n",
    "    tree.find('object/bndbox/xmax').text = str(x - 1)\n",
    "    tree.find('object/bndbox/ymax').text = str(y - 1)\n",
    "    tree.find('object/bndbox/ymin').text = str(1)\n",
    "    tree.find('size/width').text = str(x)\n",
    "    tree.find('size/height').text = str(y)\n",
    "    tree.write(green_screen_cropped_annotations_folder + '\\\\' + xml_file)"
   ]
  },
  {
   "cell_type": "markdown",
   "metadata": {},
   "source": [
    "The below program will take each green screen image, convert it to transparent image, randomly resize it and place it on different background images and save them to a folder. while doing so annotations are dynamically changed accordingly to select the hand gesture(region of interest)..."
   ]
  },
  {
   "cell_type": "code",
   "execution_count": 4,
   "metadata": {
    "scrolled": true
   },
   "outputs": [
    {
     "name": "stdout",
     "output_type": "stream",
     "text": [
      "['IMG20190305171852.jpg', 'IMG20190305171853.jpg', 'IMG20190305171855.jpg', 'IMG20190305171859.jpg', 'IMG20190305171900.jpg', 'IMG20190305171903.jpg', 'IMG20190305171910.jpg', 'IMG20190305171911.jpg', 'IMG20190305171915.jpg', 'IMG20190305171919.jpg', 'IMG20190305171923 - Copy.jpg', 'IMG20190305171923.jpg', 'IMG20190305171926.jpg', 'IMG20190305171933.jpg', 'IMG20190305171937.jpg', 'IMG_20180915_223527.jpg', 'IMG_20180922_162347.jpg', 'IMG_20180924_083603.jpg', 'IMG_20180926_232854.jpg', 'IMG_20180926_232923.jpg', 'IMG_20180926_233041.jpg', 'IMG_20180927_145607.jpg', 'IMG_20180927_145612.jpg', 'IMG_20180927_145617.jpg', 'IMG_20180927_145620.jpg', 'IMG_20180927_145624.jpg', 'IMG_20180927_161011.jpg', 'IMG_20180927_163707.jpg', 'IMG_20180927_163720.jpg', 'IMG_20180927_163722.jpg', 'IMG_20180927_205016.jpg', 'IMG_20180927_205033.jpg', 'IMG_20180927_205108.jpg', 'IMG_20180927_205116.jpg', 'IMG_20180927_205121.jpg', 'IMG_20180927_205130.jpg', 'IMG_20180927_205133.jpg', 'IMG_20180927_205152.jpg', 'IMG_20180927_205159.jpg', 'IMG_20180927_205220.jpg', 'IMG_20180927_205228.jpg', 'IMG_20180927_205303.jpg', 'IMG_20180927_205333.jpg', 'IMG_20180927_205346.jpg', 'IMG_20180927_205403.jpg', 'IMG_20180927_205407.jpg', 'IMG_20180927_205409.jpg', 'IMG_20180927_205414.jpg', 'IMG_20180927_205439.jpg', 'IMG_20180927_205441.jpg', 'IMG_20180927_205515.jpg', 'IMG_20180927_205516.jpg', 'IMG_20180927_205517.jpg', 'IMG_20180927_205526.jpg', 'IMG_20180927_205928.jpg', 'IMG_20180927_205937.jpg', 'IMG_20180927_210212.jpg', 'IMG_20180927_210215.jpg', 'IMG_20180927_221625.jpg', 'IMG_20180927_221751.jpg', 'IMG_20180927_221753.jpg', 'IMG_20181003_132604.jpg', 'IMG_20181003_135530.jpg', 'IMG_20181004_225111.jpg', 'IMG_20181006_160622.jpg', 'IMG_20181006_160623.jpg', 'IMG_20181006_160625.jpg', 'IMG_20181008_120035.jpg', 'IMG_20181008_231401.jpg', 'IMG_20181009_222148.jpg', 'IMG_20181011_161424.jpg', 'IMG_20181011_161428.jpg', 'IMG_20181011_185216.jpg', 'IMG_20181011_185717.jpg', 'IMG_20181011_185725.jpg', 'IMG_20181011_185732.jpg', 'IMG_20181011_191100.jpg', 'IMG_20181011_191416.jpg', 'IMG_20181011_192316.jpg', 'IMG_20181011_192321.jpg', 'IMG_20181011_192842.jpg', 'IMG_20181012_120058.jpg', 'IMG_20181012_154424.jpg', 'IMG_20181012_154451.jpg', 'IMG_20181013_100507.jpg', 'IMG_20181013_202713.jpg', 'IMG_20181013_202719.jpg', 'IMG_20181013_202726.jpg', 'IMG_20181014_115618.jpg', 'IMG_20181014_115619.jpg', 'IMG_20181014_115621.jpg', 'IMG_20181014_123104.jpg', 'IMG_20181014_123105.jpg', 'IMG_20181014_123107.jpg', 'IMG_20181014_123135.jpg', 'IMG_20181014_123137.jpg', 'IMG_20181014_123400.jpg', 'IMG_20181014_123405.jpg', 'IMG_20181014_123416.jpg', 'IMG_20181014_125056.jpg', 'IMG_20181014_125104.jpg', 'IMG_20181014_125105.jpg', 'IMG_20181014_125916.jpg', 'IMG_20181014_143213.jpg', 'IMG_20181014_143214.jpg', 'IMG_20181014_143346_1.jpg', 'IMG_20181014_143347.jpg', 'IMG_20181014_143402.jpg', 'IMG_20181014_143402_1.jpg', 'IMG_20181014_143403.jpg', 'IMG_20181017_212102.jpg', 'IMG_20181019_142453.jpg', 'IMG_20181021_004859.jpg', 'IMG_20181021_004922.jpg', 'IMG_20181023_144801.jpg', 'IMG_20181109_081935_1.jpg', 'IMG_20181110_210216.jpg', 'IMG_20181124_210300.jpg', 'IMG_20181124_221315.jpg', 'IMG_20181124_221316.jpg', 'IMG_20181124_221317.jpg', 'IMG_20181124_221317_1.jpg', 'IMG_20181124_221318.jpg', 'IMG_20181124_221319.jpg', 'IMG_20181124_221321.jpg', 'IMG_20181124_223357.jpg', 'IMG_20181124_224336.jpg', 'IMG_20181124_231852.jpg', 'IMG_20181124_231853.jpg', 'IMG_20181124_231855.jpg', 'IMG_20181124_231856_1.jpg', 'IMG_20181124_231933.jpg', 'IMG_20181124_231934_2.jpg', 'IMG_20181124_231935.jpg', 'IMG_20181124_231935_1.jpg', 'IMG_20181124_231935_2.jpg', 'IMG_20181124_231935_3.jpg', 'IMG_20181124_234643.jpg', 'IMG_20181124_234643_1.jpg', 'IMG_20181124_234644.jpg', 'IMG_20181124_234644_1.jpg', 'IMG_20181124_234644_3.jpg', 'IMG_20181124_234647.jpg', 'IMG_20181124_234647_1.jpg', 'IMG_20181124_234649.jpg', 'IMG_20181124_234650.jpg', 'IMG_20181124_234653_1.jpg', 'IMG_20181124_234655.jpg', 'IMG_20181206_005314.jpg', 'IMG_20181206_005315.jpg', 'IMG_20181207_154413.jpg', 'IMG_20181212_162054.jpg', 'IMG_20181212_162055_1.jpg', 'IMG_20181212_162056.jpg', 'IMG_20181212_162059_1.jpg', 'IMG_20181212_162630.jpg', 'IMG_20181212_185818.jpg', 'IMG_20181212_190736_1.jpg', 'IMG_20181214_122637.jpg', 'IMG_20181218_142227.jpg', 'IMG_20181218_162855.jpg', 'IMG_20181220_094138.jpg', 'IMG_20181222_182918.jpg', 'IMG_20181223_142357.jpg', 'IMG_20181223_184100.jpg', 'IMG_20181223_184106.jpg', 'IMG_20181223_184107.jpg', 'IMG_20181225_091817.jpg', 'IMG_20181225_091914.jpg', 'IMG_20181225_092212.jpg', 'IMG_20181225_092222.jpg', 'IMG_20181230_210751.jpg', 'IMG_20181231_191142.jpg', 'IMG_20190101_094311.jpg', 'IMG_20190101_094328.jpg', 'IMG_20190101_094602.jpg', 'IMG_20190101_094602_1.jpg', 'IMG_20190101_094604.jpg', 'IMG_20190127_071120.jpg', 'IMG_20190127_071315.jpg', 'IMG_20190127_071327.jpg', 'IMG_20190127_071501.jpg', 'IMG_20190127_080207.jpg', 'IMG_20190127_080548.jpg', 'IMG_20190127_104357.jpg', 'IMG_20190127_104406.jpg', 'IMG_20190127_171411.jpg', 'IMG_20190127_171430.jpg', 'IMG_20190127_171430_1.jpg', 'IMG_20190127_171435.jpg', 'IMG_20190127_171447.jpg', 'IMG_20190127_171457.jpg', 'IMG_20190127_174253.jpg', 'IMG_20190127_174314.jpg', 'IMG_20190127_174335.jpg', 'IMG_20190127_174404.jpg', 'IMG_20190127_174627.jpg', 'IMG_20190127_174808.jpg', 'IMG_20190127_174933.jpg', 'IMG_20190127_175103.jpg', 'IMG_20190127_181330.jpg', 'IMG_20190127_181501.jpg', 'IMG_20190127_181512.jpg', 'IMG_20190129_155628.jpg', 'IMG_20190129_155634.jpg', 'IMG_20190130_091032.jpg', 'IMG_20190130_091041.jpg', 'IMG_20190202_201220.jpg', 'IMG_20190202_203248.jpg', 'IMG_20190202_203254.jpg', 'IMG_20190202_203642.jpg', 'IMG_20190205_195744.jpg', 'IMG_20190205_195749.jpg', 'IMG_20190205_195750.jpg', 'IMG_20190205_214306.jpg', 'IMG_20190205_214307.jpg', 'IMG_20190205_214309.jpg', 'IMG_20190205_215228.jpg', 'IMG_20190205_215238.jpg', 'IMG_20190205_215255.jpg', 'IMG_20190207_002122.jpg', 'IMG_20190207_002222.jpg', 'IMG_20190305_115055.jpg', 'IMG_20190305_115059.jpg', 'IMG_20190305_115102.jpg', 'IMG_20190305_115106.jpg', 'IMG_20190305_115109.jpg', 'IMG_20190305_115122.jpg', 'IMG_20190305_115126.jpg', 'IMG_20190305_115129.jpg', 'IMG_20190305_115131.jpg', 'IMG_20190305_115133.jpg', 'IMG_20190305_115141.jpg', 'IMG_20190305_115144.jpg', 'IMG_20190305_115206.jpg', 'IMG_20190305_115230.jpg', 'IMG_20190305_115238.jpg', 'IMG_20190305_115240.jpg', 'IMG_20190305_115241.jpg', 'IMG_20190305_115243.jpg', 'IMG_20190305_115244.jpg', 'IMG_20190305_115246.jpg', 'IMG_20190305_171742.jpg', 'IMG_20190305_171744.jpg', 'IMG_20190305_171748.jpg', 'IMG_20190305_171754.jpg', 'IMG_20190305_171837.jpg', 'IMG_20190305_171841.jpg', 'IMG_20190305_171843.jpg', 'IMG_20190305_171850.jpg', 'IMG_20190305_171856.jpg', 'IMG_20190305_171858.jpg', 'IMG_20190305_171903.jpg', 'IMG_20190305_171910.jpg', 'IMG_20190305_171915.jpg', 'IMG_20190305_171921.jpg', 'IMG_20190305_171928.jpg', 'IMG_20190305_171933.jpg', 'IMG_20190305_171936.jpg', 'IMG_20190305_171936_1.jpg', 'IMG_20190305_171945.jpg', 'IMG_20190305_171952.jpg', 'IMG_20190305_171956.jpg', 'IMG_20190305_171959.jpg', 'IMG_20190305_172008.jpg', 'IMG_20190305_172021.jpg', 'IMG_20190305_172031.jpg', 'IMG_20190305_182312.jpg', 'IMG_20190305_182315.jpg', 'IMG_20190305_182340.jpg', 'IMG_20190305_182400.jpg', 'IMG_20190305_182404.jpg', 'IMG_20190305_182409.jpg', 'IMG_20190305_182413.jpg', 'IMG_20190305_182419.jpg', 'IMG_20190305_182428.jpg', 'IMG_20190305_182432.jpg', 'IMG_20190305_182436.jpg', 'IMG_20190305_182549.jpg', 'IMG_20190305_182551.jpg', 'IMG_20190305_182555.jpg', 'IMG_20190305_182558.jpg', 'IMG_20190305_182601.jpg', 'IMG_20190305_182714.jpg', 'IMG_20190305_183015.jpg', 'IMG_20190305_211539.jpg', 'IMG_20190305_211541.jpg', 'IMG_20190305_211543.jpg', 'IMG_20190305_211545.jpg', 'IMG_20190305_211546.jpg', 'IMG_20190305_211548.jpg', 'IMG_20190305_211549.jpg', 'IMG_20190305_211550.jpg', 'IMG_20190305_211552.jpg', 'IMG_20190305_211601.jpg', 'IMG_20190305_211603.jpg', 'IMG_20190305_211608.jpg', 'IMG_20190305_211835.jpg', 'IMG_20190305_211837.jpg', 'IMG_20190305_211839.jpg', 'IMG_20190305_211841.jpg', 'IMG_20190305_211847.jpg', 'IMG_20190305_211848.jpg', 'IMG_20190305_211849.jpg', 'IMG_20190305_211851.jpg', 'IMG_20190305_211852.jpg', 'IMG_20190305_211904.jpg', 'IMG_20190305_211909.jpg', 'IMG_20190305_211910.jpg', 'IMG_20190305_211912.jpg', 'IMG_20190305_211916.jpg', 'IMG_20190305_211917.jpg', 'IMG_20190305_211921.jpg', 'IMG_20190305_211922.jpg', 'IMG_20190305_212026.jpg', 'IMG_20190305_212028.jpg', 'IMG_20190305_212031.jpg', 'IMG_20190305_212145.jpg', 'IMG_20190305_212147.jpg', 'IMG_20190305_212149.jpg', 'IMG_20190305_212150.jpg', 'IMG_20190305_212158.jpg', 'IMG_20190305_212159.jpg', 'IMG_20190305_212205.jpg', 'IMG_20190305_214236.jpg', 'IMG_20190305_214237.jpg', 'IMG_20190305_214238.jpg', 'IMG_20190305_214240.jpg', 'IMG_20190305_214242.jpg', 'IMG_20190305_214246.jpg', 'IMG_20190305_214248.jpg', 'IMG_20190306_174513.jpg', 'IMG_20190306_174516.jpg', 'IMG_20190306_174523.jpg', 'IMG_20190306_174526.jpg', 'IMG_20190306_174533.jpg', 'IMG_20190306_174542.jpg', 'IMG_20190306_174543.jpg', 'IMG_20190306_174549.jpg', 'IMG_20190306_174604.jpg', 'IMG_20190306_174620.jpg', 'IMG_20190306_174624.jpg', 'IMG_20190306_174625.jpg', 'IMG_20190306_174634.jpg', 'IMG_20190306_174638.jpg', 'IMG_20190306_174655.jpg', 'IMG_20190306_174704.jpg', 'IMG_20190306_174706.jpg', 'IMG_20190306_174706_1.jpg', 'IMG_20190306_174711.jpg', 'IMG_20190306_174713.jpg', 'IMG_20190306_174726.jpg', 'IMG_20190306_174728.jpg', 'IMG_20190306_174729.jpg', 'IMG_20190306_174730.jpg', 'IMG_20190306_174732.jpg', 'IMG_20190306_174734.jpg', 'IMG_20190306_174735.jpg', 'IMG_20190306_174737.jpg', 'IMG_20190306_174740.jpg', 'IMG_20190306_174745.jpg', 'IMG_20190306_174758.jpg', 'IMG_20190306_174830.jpg', 'IMG_20190306_174831.jpg', 'IMG_20190306_174832.jpg', 'IMG_20190306_174835.jpg', 'IMG_20190306_174836.jpg', 'IMG_20190306_174836_1.jpg', 'IMG_20190306_174846.jpg', 'IMG_20190306_174847.jpg', 'IMG_20190306_174856.jpg', 'IMG_20190306_174858.jpg', 'IMG_20190306_174902.jpg', 'IMG_20190306_174904.jpg', 'IMG_20190306_174910.jpg', 'IMG_20190306_174912.jpg', 'IMG_20190306_174930.jpg', 'IMG_20190306_174933.jpg', 'IMG_20190307_222440.jpg', 'IMG_20190307_222442.jpg', 'IMG_20190307_222445.jpg', 'IMG_20190307_222459.jpg', 'IMG_20190307_222501.jpg', 'IMG_20190307_222503.jpg', 'IMG_20190307_222504.jpg', 'IMG_20190307_222506.jpg', 'IMG_20190307_222526.jpg', 'IMG_20190307_222528.jpg', 'IMG_20190307_222529.jpg', 'IMG_20190307_222531.jpg', 'IMG_20190307_222542.jpg', 'IMG_20190307_222546.jpg', 'IMG_20190307_222547.jpg', 'IMG_20190307_222551.jpg', 'IMG_20190307_222607.jpg', 'IMG_20190307_222609.jpg', 'IMG_20190307_222611.jpg', 'IMG_20190307_222612.jpg', 'IMG_20190307_222614.jpg', 'IMG_20190307_222616.jpg', 'IMG_20190307_222618.jpg', 'IMG_20190307_222619.jpg', 'IMG_20190321_124555.jpg', 'IMG_20190321_124604.jpg', 'IMG_20190321_124606.jpg', 'IMG_20190321_124608.jpg', 'IMG_20190321_124619.jpg', 'IMG_20190321_124625.jpg', 'IMG_20190321_124631.jpg', 'IMG_20190321_124633.jpg', 'IMG_20190321_124636.jpg', 'IMG_20190321_124640.jpg', 'IMG_20190321_124642.jpg', 'img_face_10.jpg', 'img_face_11.jpg', 'img_face_12.jpg', 'img_face_13.jpg', 'img_face_14.jpg', 'img_face_15.jpg', 'img_face_16.jpg', 'img_face_17.jpg', 'img_face_18.jpg', 'img_face_19.jpg', 'img_face_20.jpg', 'img_face_21.jpg', 'img_face_22.jpg', 'img_face_23.jpg', 'img_face_24.jpg', 'img_face_25.jpg', 'img_face_26.jpg', 'img_face_7.jpg', 'img_face_8.jpg', 'img_face_9.jpg', 'MVIMG_20180918_182145.jpg']\n",
      "434\n"
     ]
    }
   ],
   "source": [
    "#loading all background images from the backgrounds folder..\n",
    "bg_files = []\n",
    "for file in os.listdir(background_folder):\n",
    "    bg_files.append(file)\n",
    "\n",
    "print(bg_files)\n",
    "print(len(bg_files))"
   ]
  },
  {
   "cell_type": "code",
   "execution_count": 5,
   "metadata": {},
   "outputs": [],
   "source": [
    "for file in os.listdir(green_screen_cropped_annotations_folder):\n",
    "    count = 1\n",
    "    image_name = file[:-4] + \".png\"\n",
    "    img_file = Image.open(green_screen_img_cropped_folder + \"\\\\\" + image_name)\n",
    "    img_file_w, img_file_h = img_file.size\n",
    "    \n",
    "    bg_w = 1440\n",
    "    bg_h = 900\n",
    "    \n",
    "    w_limit = bg_w/img_file_w\n",
    "    h_limit = bg_h/img_file_h\n",
    "    \n",
    "    factor_l = min(w_limit, h_limit)\n",
    "    \n",
    "    tree = ET.parse(green_screen_cropped_annotations_folder + '\\\\' + file) \n",
    "    \n",
    "    xmin = int(tree.find('object/bndbox/xmin').text)\n",
    "    xmax = int(tree.find('object/bndbox/xmax').text) \n",
    "    ymax = int(tree.find('object/bndbox/ymax').text) \n",
    "    ymin = int(tree.find('object/bndbox/ymin').text) \n",
    "    \n",
    "    while count <= 9:\n",
    "        timestr = \"_\" + time.strftime(\"%Y%m%d_%H%M%S\") + \"_\" + str(count)\n",
    "\n",
    "        background = Image.open(background_folder + '\\\\' + random.choice(bg_files))\n",
    "        background = background.resize((1440, 900))\n",
    "        #bg_w, bg_h = background.size\n",
    "        #bg_w, bg_h\n",
    "        #w_limit = bg_w/img_file_w\n",
    "        #h_limit = bg_h/img_file_h\n",
    "        \n",
    "        factor = random.randint(7,int(factor_l*10))/10\n",
    "        \n",
    "        img = img_file.resize((int(img_file_w * factor), int(img_file_h * factor)))\n",
    "        \n",
    "        img = img.convert(\"RGBA\")\n",
    "        \n",
    "        newData = []\n",
    "        for item in img.getdata():\n",
    "            if item[0] == 0 and item[1] == 255 and item[2] == 0:\n",
    "                newData.append((255, 255, 255, 0))\n",
    "            else:\n",
    "                newData.append(item)\n",
    "        img.putdata(newData)\n",
    "        \n",
    "        img_w, img_h = img.size\n",
    "        \n",
    "        scale_bg_w, scale_bg_h = bg_w - img_w, bg_h - img_h\n",
    "        \n",
    "        if scale_bg_w == 0:\n",
    "            continue\n",
    "        else :\n",
    "            scale_bg_w = random.randint(1, scale_bg_w)\n",
    "            \n",
    "        if scale_bg_h == 0:\n",
    "            continue\n",
    "        else:\n",
    "            scale_bg_h = random.randint(1, scale_bg_h)\n",
    "            \n",
    "        #scale_bg_w = random.randint(1, scale_bg_w)\n",
    "        #scale_bg_h = random.randint(1, scale_bg_h)\n",
    "        \n",
    "        offset = (scale_bg_w, scale_bg_h, scale_bg_w + img_w, scale_bg_h + img_h)\n",
    "        \n",
    "        background.paste(img, offset, mask = img)\n",
    "        \n",
    "        background.save(green_screen_resized_bg_images_folder + \"\\\\\" + image_name[:-4] + timestr + \".png\")\n",
    "        \n",
    "        xml_file = green_screen_cropped_annotations_folder + \"\\\\\" + image_name[:-4] + \".xml\"\n",
    "        \n",
    "        tree = ET.parse(xml_file) \n",
    "        \n",
    "        tree.find('filename').text = image_name[:-4] + timestr + \".png\"\n",
    "        tree.find('object/bndbox/xmin').text = str(int(scale_bg_w + xmin*factor))\n",
    "        tree.find('object/bndbox/xmax').text = str(int(scale_bg_w + xmax*factor))\n",
    "        tree.find('object/bndbox/ymax').text = str(int(scale_bg_h + ymax*factor))\n",
    "        tree.find('object/bndbox/ymin').text = str(int(scale_bg_h + ymin*factor))\n",
    "        tree.find('size/width').text = str(bg_w)\n",
    "        tree.find('size/height').text = str(bg_h)\n",
    "        tree.write(green_screen_resized_bg_annotations_folder + \"\\\\\" + image_name[:-4] + timestr + \".xml\")\n",
    "        \n",
    "        background.close()\n",
    "        count+=1"
   ]
  }
 ],
 "metadata": {
  "kernelspec": {
   "display_name": "Python [default]",
   "language": "python",
   "name": "python3"
  },
  "language_info": {
   "codemirror_mode": {
    "name": "ipython",
    "version": 3
   },
   "file_extension": ".py",
   "mimetype": "text/x-python",
   "name": "python",
   "nbconvert_exporter": "python",
   "pygments_lexer": "ipython3",
   "version": "3.6.3"
  }
 },
 "nbformat": 4,
 "nbformat_minor": 2
}
